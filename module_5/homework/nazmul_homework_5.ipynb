{
 "cells": [
  {
   "cell_type": "markdown",
   "metadata": {},
   "source": [
    "##### Homework 5\n",
    "##### Nazmul Rabbi\n",
    "##### 06/20/2024"
   ]
  },
  {
   "cell_type": "code",
   "execution_count": 2,
   "metadata": {},
   "outputs": [
    {
     "name": "stdout",
     "output_type": "stream",
     "text": [
      "Q1: The shape of the downloaded data is 57457\n"
     ]
    }
   ],
   "source": [
    "# check the metrics.ipynb for the code\n",
    "print(\"Q1: The shape of the downloaded data is 57457\")"
   ]
  },
  {
   "cell_type": "code",
   "execution_count": 3,
   "metadata": {},
   "outputs": [
    {
     "name": "stdout",
     "output_type": "stream",
     "text": [
      "Q2: The metric I chose is ColumnValueRangeMetric\n"
     ]
    }
   ],
   "source": [
    "# check the metrics.ipynb for the code\n",
    "# i chose this metric so i can assess the amount of fare below and above 25 dollars for rides\n",
    "print(\"Q2: The metric I chose is ColumnValueRangeMetric\")"
   ]
  },
  {
   "cell_type": "code",
   "execution_count": 4,
   "metadata": {},
   "outputs": [
    {
     "name": "stdout",
     "output_type": "stream",
     "text": [
      "Q3: The maximum value of quantile is 14.2\n"
     ]
    }
   ],
   "source": [
    "# check the monitoring_data_script.py for the code\n",
    "print(\"Q3: The maximum value of quantile is 14.2\")"
   ]
  },
  {
   "cell_type": "code",
   "execution_count": 5,
   "metadata": {},
   "outputs": [
    {
     "name": "stdout",
     "output_type": "stream",
     "text": [
      "Q4: The dashboard file should be placed inside project_folder/dashboards\n"
     ]
    }
   ],
   "source": [
    "# check the dashboard.json file for the code\n",
    "print(\"Q4: The dashboard file should be placed inside project_folder/dashboards\")"
   ]
  }
 ],
 "metadata": {
  "kernelspec": {
   "display_name": "py11",
   "language": "python",
   "name": "python3"
  },
  "language_info": {
   "codemirror_mode": {
    "name": "ipython",
    "version": 3
   },
   "file_extension": ".py",
   "mimetype": "text/x-python",
   "name": "python",
   "nbconvert_exporter": "python",
   "pygments_lexer": "ipython3",
   "version": "3.1.undefined"
  }
 },
 "nbformat": 4,
 "nbformat_minor": 2
}

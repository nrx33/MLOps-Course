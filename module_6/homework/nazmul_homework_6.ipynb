{
 "cells": [
  {
   "cell_type": "markdown",
   "metadata": {},
   "source": [
    "##### Nazmul Rabbi\n",
    "##### Homework 6\n",
    "##### 07/01/2024"
   ]
  },
  {
   "cell_type": "code",
   "execution_count": 11,
   "metadata": {},
   "outputs": [
    {
     "name": "stdout",
     "output_type": "stream",
     "text": [
      "Q1:\n",
      "      \n",
      "if __name__ == '__main__':\n",
      "    year = int(sys.argv[1])\n",
      "    month = int(sys.argv[2])\n",
      "    main(year, month)\n",
      "      \n",
      "\n"
     ]
    }
   ],
   "source": [
    "print(\"\"\"Q1:\n",
    "      \n",
    "if __name__ == '__main__':\n",
    "    year = int(sys.argv[1])\n",
    "    month = int(sys.argv[2])\n",
    "    main(year, month)\n",
    "      \n",
    "\"\"\")"
   ]
  },
  {
   "cell_type": "code",
   "execution_count": 1,
   "metadata": {},
   "outputs": [
    {
     "name": "stdout",
     "output_type": "stream",
     "text": [
      "Q2: Both of the above options are correct\n"
     ]
    }
   ],
   "source": [
    "print(\"Q2: Both of the above options are correct\")"
   ]
  },
  {
   "cell_type": "code",
   "execution_count": 2,
   "metadata": {},
   "outputs": [
    {
     "name": "stdout",
     "output_type": "stream",
     "text": [
      "Q3: There are 3 rows\n"
     ]
    }
   ],
   "source": [
    "print(\"Q3: There are 3 rows\")"
   ]
  },
  {
   "cell_type": "code",
   "execution_count": 1,
   "metadata": {},
   "outputs": [
    {
     "name": "stdout",
     "output_type": "stream",
     "text": [
      "Q4: --endpoint-url\n"
     ]
    }
   ],
   "source": [
    "print(\"Q4: --endpoint-url\")"
   ]
  },
  {
   "cell_type": "code",
   "execution_count": 2,
   "metadata": {},
   "outputs": [
    {
     "name": "stdout",
     "output_type": "stream",
     "text": [
      "Q5: 3667\n"
     ]
    }
   ],
   "source": [
    "print(\"Q5: 3667\")"
   ]
  },
  {
   "cell_type": "code",
   "execution_count": 3,
   "metadata": {},
   "outputs": [
    {
     "name": "stdout",
     "output_type": "stream",
     "text": [
      "Q6: 10.50\n"
     ]
    }
   ],
   "source": [
    "print(\"Q6: 10.50\")"
   ]
  }
 ],
 "metadata": {
  "kernelspec": {
   "display_name": "homework-h158kZqj",
   "language": "python",
   "name": "python3"
  },
  "language_info": {
   "codemirror_mode": {
    "name": "ipython",
    "version": 3
   },
   "file_extension": ".py",
   "mimetype": "text/x-python",
   "name": "python",
   "nbconvert_exporter": "python",
   "pygments_lexer": "ipython3",
   "version": "3.10.12"
  }
 },
 "nbformat": 4,
 "nbformat_minor": 2
}

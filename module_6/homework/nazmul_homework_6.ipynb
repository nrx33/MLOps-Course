{
 "cells": [
  {
   "cell_type": "markdown",
   "metadata": {},
   "source": [
    "##### Nazmul Rabbi\n",
    "##### Homework 6\n",
    "##### 07/01/2024"
   ]
  },
  {
   "cell_type": "code",
   "execution_count": 1,
   "metadata": {},
   "outputs": [
    {
     "name": "stdout",
     "output_type": "stream",
     "text": [
      "Q1:\n",
      "      \n",
      "if __name__ == '__main__':\n",
      "    year = int(sys.argv[1])\n",
      "    month = int(sys.argv[2])\n",
      "    main(year, month)\n",
      "      \n",
      "\n"
     ]
    }
   ],
   "source": [
    "print(\n",
    "    \"\"\"Q1:\n",
    "      \n",
    "if __name__ == '__main__':\n",
    "    year = int(sys.argv[1])\n",
    "    month = int(sys.argv[2])\n",
    "    main(year, month)\n",
    "      \n",
    "\"\"\"\n",
    ")"
   ]
  },
  {
   "cell_type": "code",
   "execution_count": 2,
   "metadata": {},
   "outputs": [
    {
     "name": "stdout",
     "output_type": "stream",
     "text": [
      "Q2: __init__.py\n"
     ]
    }
   ],
   "source": [
    "print(\"Q2: __init__.py\")"
   ]
  },
  {
   "cell_type": "code",
   "execution_count": 3,
   "metadata": {},
   "outputs": [
    {
     "name": "stdout",
     "output_type": "stream",
     "text": [
      "Q3: There are 2 rows\n"
     ]
    }
   ],
   "source": [
    "print(\"Q3: There are 2 rows\")"
   ]
  },
  {
   "cell_type": "code",
   "execution_count": 4,
   "metadata": {},
   "outputs": [
    {
     "name": "stdout",
     "output_type": "stream",
     "text": [
      "Q4: --endpoint-url\n"
     ]
    }
   ],
   "source": [
    "print(\"Q4: --endpoint-url\")"
   ]
  },
  {
   "cell_type": "code",
   "execution_count": 5,
   "metadata": {},
   "outputs": [
    {
     "name": "stdout",
     "output_type": "stream",
     "text": [
      "Q5: 3620\n"
     ]
    }
   ],
   "source": [
    "print(\"Q5: 3620\")"
   ]
  },
  {
   "cell_type": "code",
   "execution_count": 6,
   "metadata": {},
   "outputs": [
    {
     "name": "stdout",
     "output_type": "stream",
     "text": [
      "Q6: 36.28\n"
     ]
    }
   ],
   "source": [
    "print(\"Q6: 36.28\")"
   ]
  }
 ],
 "metadata": {
  "kernelspec": {
   "display_name": "homework-h158kZqj",
   "language": "python",
   "name": "python3"
  },
  "language_info": {
   "codemirror_mode": {
    "name": "ipython",
    "version": 3
   },
   "file_extension": ".py",
   "mimetype": "text/x-python",
   "name": "python",
   "nbconvert_exporter": "python",
   "pygments_lexer": "ipython3",
   "version": "3.10.12"
  }
 },
 "nbformat": 4,
 "nbformat_minor": 2
}

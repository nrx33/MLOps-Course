{
 "cells": [
  {
   "cell_type": "markdown",
   "metadata": {},
   "source": [
    "##### Homework 3\n",
    "##### Nazmul Rabbi\n",
    "##### 06/03/2024"
   ]
  },
  {
   "cell_type": "code",
   "execution_count": 1,
   "metadata": {},
   "outputs": [
    {
     "name": "stdout",
     "output_type": "stream",
     "text": [
      "Q1: Version of Mage -> 0.9.71\n"
     ]
    }
   ],
   "source": [
    "# the version of mage being used\n",
    "print(\"Q1: Version of Mage -> 0.9.71\")"
   ]
  },
  {
   "cell_type": "code",
   "execution_count": 2,
   "metadata": {},
   "outputs": [
    {
     "name": "stdout",
     "output_type": "stream",
     "text": [
      "Q2: Lines of code in the yaml file -> 55\n"
     ]
    }
   ],
   "source": [
    "# lines of code in the yaml file\n",
    "# check the metadata.yaml file for the Scode, its on the same directory as this python notebook\n",
    "print(\"Q2: Lines of code in the yaml file -> 55\")"
   ]
  },
  {
   "cell_type": "code",
   "execution_count": 3,
   "metadata": {},
   "outputs": [
    {
     "name": "stdout",
     "output_type": "stream",
     "text": [
      "Q3: Number of records loaded -> 3,403,766\n"
     ]
    }
   ],
   "source": [
    "# how many records were loaded\n",
    "# check the ingest.py file for the code, its on the same directory as this python notebook\n",
    "print(\"Q3: Number of records loaded -> 3,403,766\")"
   ]
  },
  {
   "cell_type": "code",
   "execution_count": 1,
   "metadata": {},
   "outputs": [
    {
     "name": "stdout",
     "output_type": "stream",
     "text": [
      "Q4: Size of the result -> 3,316,216\n"
     ]
    }
   ],
   "source": [
    "# size of the result\n",
    "# check the prepare.py file for the code, its on the same directory as this python notebook\n",
    "print(\"Q4: Size of the result -> 3,316,216\")"
   ]
  },
  {
   "cell_type": "code",
   "execution_count": 4,
   "metadata": {},
   "outputs": [
    {
     "name": "stdout",
     "output_type": "stream",
     "text": [
      "Q5: Intercept field in the code block -> 24.77\n"
     ]
    }
   ],
   "source": [
    "# the intercept field in the code block\n",
    "# check the train_model.py file for the code, its on the same directory as this python notebook\n",
    "print(\"Q5: Intercept field in the code block -> 24.77\")"
   ]
  },
  {
   "cell_type": "code",
   "execution_count": 6,
   "metadata": {},
   "outputs": [
    {
     "name": "stdout",
     "output_type": "stream",
     "text": [
      "Q6: Size of the model -> 4,534\n"
     ]
    }
   ],
   "source": [
    "# the size of the model\n",
    "# check the log_model.py file for the code, its on the same directory as this python notebook\n",
    "print(\"Q6: Size of the model -> 4,534\")"
   ]
  }
 ],
 "metadata": {
  "kernelspec": {
   "display_name": "Python 3",
   "language": "python",
   "name": "python3"
  },
  "language_info": {
   "codemirror_mode": {
    "name": "ipython",
    "version": 3
   },
   "file_extension": ".py",
   "mimetype": "text/x-python",
   "name": "python",
   "nbconvert_exporter": "python",
   "pygments_lexer": "ipython3",
   "version": "3.10.13"
  }
 },
 "nbformat": 4,
 "nbformat_minor": 2
}

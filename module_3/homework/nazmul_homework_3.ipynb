{
 "cells": [
  {
   "cell_type": "markdown",
   "metadata": {},
   "source": [
    "##### Homework 3\n",
    "##### Nazmul Rabbi\n",
    "##### 06/03/2024"
   ]
  },
  {
   "cell_type": "code",
   "execution_count": 1,
   "metadata": {},
   "outputs": [
    {
     "name": "stdout",
     "output_type": "stream",
     "text": [
      "Q1: Version of Mage -> 0.9.71\n"
     ]
    }
   ],
   "source": [
    "# the version of mage being used\n",
    "print(\"Q1: Version of Mage -> 0.9.71\")"
   ]
  },
  {
   "cell_type": "code",
   "execution_count": 2,
   "metadata": {},
   "outputs": [
    {
     "name": "stdout",
     "output_type": "stream",
     "text": [
      "Q2: Lines of code in the yaml file -> 55\n"
     ]
    }
   ],
   "source": [
    "# lines of code in the yaml file\n",
    "print(\"Q2: Lines of code in the yaml file -> 55\")"
   ]
  },
  {
   "cell_type": "code",
   "execution_count": 3,
   "metadata": {},
   "outputs": [
    {
     "name": "stdout",
     "output_type": "stream",
     "text": [
      "Q3: Number of records loaded -> 3,403,766\n"
     ]
    }
   ],
   "source": [
    "# how many records were loaded\n",
    "print(\"Q3: Number of records loaded -> 3,403,766\")"
   ]
  },
  {
   "cell_type": "code",
   "execution_count": null,
   "metadata": {},
   "outputs": [],
   "source": [
    "# size of the result\n",
    "print(\"Q4: Size of the result -> 3,316,216\")"
   ]
  },
  {
   "cell_type": "code",
   "execution_count": 4,
   "metadata": {},
   "outputs": [
    {
     "name": "stdout",
     "output_type": "stream",
     "text": [
      "Q5: Intercept field in the code block -> 24.77\n"
     ]
    }
   ],
   "source": [
    "# the intercept field in the code block\n",
    "print(\"Q5: Intercept field in the code block -> 24.77\")"
   ]
  },
  {
   "cell_type": "code",
   "execution_count": null,
   "metadata": {},
   "outputs": [],
   "source": [
    "# the size of the model\n",
    "print(\"Q6: Size of the model -> 0\")"
   ]
  }
 ],
 "metadata": {
  "kernelspec": {
   "display_name": "Python 3",
   "language": "python",
   "name": "python3"
  },
  "language_info": {
   "codemirror_mode": {
    "name": "ipython",
    "version": 3
   },
   "file_extension": ".py",
   "mimetype": "text/x-python",
   "name": "python",
   "nbconvert_exporter": "python",
   "pygments_lexer": "ipython3",
   "version": "3.10.13"
  }
 },
 "nbformat": 4,
 "nbformat_minor": 2
}

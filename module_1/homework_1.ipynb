{
 "cells": [
  {
   "cell_type": "code",
   "execution_count": 13,
   "metadata": {},
   "outputs": [],
   "source": [
    "# ignore warnings\n",
    "import warnings\n",
    "warnings.filterwarnings(\"ignore\")\n",
    "\n",
    "# import libraries\n",
    "import pandas as pd\n",
    "import matplotlib.pyplot as plt\n",
    "import seaborn as sns"
   ]
  },
  {
   "cell_type": "code",
   "execution_count": 14,
   "metadata": {},
   "outputs": [],
   "source": [
    "# read data\n",
    "data_train = pd.read_parquet('./data/yellow_tripdata_2023-01.parquet')\n",
    "data_val = pd.read_parquet('./data/yellow_tripdata_2023-02.parquet')"
   ]
  },
  {
   "cell_type": "code",
   "execution_count": 15,
   "metadata": {},
   "outputs": [
    {
     "name": "stdout",
     "output_type": "stream",
     "text": [
      "Q1: Number of columns in the Jan 2023 dataset:  19\n"
     ]
    }
   ],
   "source": [
    "# count number of columns in the dataframe\n",
    "print(\"Q1: Number of columns in the Jan 2023 dataset: \", len(data_train.columns))"
   ]
  },
  {
   "cell_type": "code",
   "execution_count": 17,
   "metadata": {},
   "outputs": [],
   "source": [
    "# create the duration field\n",
    "data_train['duration'] = ((data_train['tpep_dropoff_datetime'] - data_train['tpep_pickup_datetime']).dt.total_seconds() / 60)\n",
    "data_train['duration'] = ((data_val['tpep_dropoff_datetime'] - data_val['tpep_pickup_datetime']).dt.total_seconds() / 60)"
   ]
  },
  {
   "cell_type": "code",
   "execution_count": 18,
   "metadata": {},
   "outputs": [
    {
     "name": "stdout",
     "output_type": "stream",
     "text": [
      "Q2: Standard Deviation of the trips in Jan 2023:  42.84\n"
     ]
    }
   ],
   "source": [
    "#calculate standard devivation\n",
    "print('Q2: Standard Deviation of the trips in Jan 2023: ', data_train.duration.std().round(2))"
   ]
  },
  {
   "cell_type": "code",
   "execution_count": 19,
   "metadata": {},
   "outputs": [
    {
     "name": "stdout",
     "output_type": "stream",
     "text": [
      "Q3: Proportion of Records Left:  93.13 %\n"
     ]
    }
   ],
   "source": [
    "# calculate the proportion of records left after filtering\n",
    "print(\"Q3: Proportion of Records Left: \",round((len(data_train.query('1 <= duration <= 60')) / len(data_train) * 100), 2), '%')"
   ]
  },
  {
   "cell_type": "code",
   "execution_count": 21,
   "metadata": {},
   "outputs": [
    {
     "data": {
      "text/plain": [
       "2855951"
      ]
     },
     "execution_count": 21,
     "metadata": {},
     "output_type": "execute_result"
    }
   ],
   "source": [
    "# filter the training and validation data\n",
    "data_train = data_train.query('1 <= duration <= 60')\n",
    "data_val = data_val.query('1 <= duration <= 60')"
   ]
  },
  {
   "cell_type": "code",
   "execution_count": null,
   "metadata": {},
   "outputs": [],
   "source": []
  }
 ],
 "metadata": {
  "kernelspec": {
   "display_name": "Python 3",
   "language": "python",
   "name": "python3"
  },
  "language_info": {
   "codemirror_mode": {
    "name": "ipython",
    "version": 3
   },
   "file_extension": ".py",
   "mimetype": "text/x-python",
   "name": "python",
   "nbconvert_exporter": "python",
   "pygments_lexer": "ipython3",
   "version": "3.10.13"
  }
 },
 "nbformat": 4,
 "nbformat_minor": 2
}

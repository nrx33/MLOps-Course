{
 "cells": [
  {
   "cell_type": "code",
   "execution_count": 1,
   "metadata": {},
   "outputs": [],
   "source": [
    "# import libraries\n",
    "import pandas as pd\n",
    "from sklearn.feature_extraction import DictVectorizer\n",
    "from sklearn.linear_model import LinearRegression\n",
    "from sklearn.metrics import root_mean_squared_error"
   ]
  },
  {
   "cell_type": "code",
   "execution_count": 2,
   "metadata": {},
   "outputs": [],
   "source": [
    "# read data\n",
    "data_train = pd.read_parquet('./data/yellow_tripdata_2023-01.parquet')\n",
    "data_val = pd.read_parquet('./data/yellow_tripdata_2023-02.parquet')"
   ]
  },
  {
   "cell_type": "code",
   "execution_count": 3,
   "metadata": {},
   "outputs": [
    {
     "name": "stdout",
     "output_type": "stream",
     "text": [
      "Q1: Number of columns in the Jan 2023 dataset:  19\n"
     ]
    }
   ],
   "source": [
    "# count number of columns in the dataframe\n",
    "print(\"Q1: Number of columns in the Jan 2023 dataset: \", len(data_train.columns))"
   ]
  },
  {
   "cell_type": "code",
   "execution_count": 4,
   "metadata": {},
   "outputs": [],
   "source": [
    "# create the duration field\n",
    "data_train['duration'] = ((data_train['tpep_dropoff_datetime'] - data_train['tpep_pickup_datetime']).dt.total_seconds() / 60)\n",
    "data_val['duration'] = ((data_val['tpep_dropoff_datetime'] - data_val['tpep_pickup_datetime']).dt.total_seconds() / 60)"
   ]
  },
  {
   "cell_type": "code",
   "execution_count": 5,
   "metadata": {},
   "outputs": [
    {
     "name": "stdout",
     "output_type": "stream",
     "text": [
      "Q2: Standard Deviation of the trips in Jan 2023:  42.59\n"
     ]
    }
   ],
   "source": [
    "#calculate standard devivation\n",
    "print('Q2: Standard Deviation of the trips in Jan 2023: ', data_train.duration.std().round(2))"
   ]
  },
  {
   "cell_type": "code",
   "execution_count": 6,
   "metadata": {},
   "outputs": [
    {
     "name": "stdout",
     "output_type": "stream",
     "text": [
      "Q3: Proportion of Records Left:  98.12 %\n"
     ]
    }
   ],
   "source": [
    "# calculate the proportion of records left after filtering\n",
    "print(\"Q3: Proportion of Records Left: \",round((len(data_train.query('1 <= duration <= 60')) / len(data_train) * 100), 2), '%')"
   ]
  },
  {
   "cell_type": "code",
   "execution_count": 7,
   "metadata": {},
   "outputs": [],
   "source": [
    "# filter the training and validation data\n",
    "data_train = data_train.query('1 <= duration <= 60')\n",
    "data_val = data_val.query('1 <= duration <= 60')"
   ]
  },
  {
   "cell_type": "code",
   "execution_count": 8,
   "metadata": {},
   "outputs": [],
   "source": [
    "# select the features for training\n",
    "categorical_features = ['PULocationID', 'DOLocationID']"
   ]
  },
  {
   "cell_type": "code",
   "execution_count": 9,
   "metadata": {},
   "outputs": [],
   "source": [
    "# convert the categorical features to string\n",
    "data_train[categorical_features] = data_train[categorical_features].astype(str)\n",
    "data_val[categorical_features] = data_val[categorical_features].astype(str)"
   ]
  },
  {
   "cell_type": "code",
   "execution_count": 10,
   "metadata": {},
   "outputs": [],
   "source": [
    "# convert to dictionary to use in DictVectorizer\n",
    "train_dict = data_train[categorical_features].to_dict(orient='records')\n",
    "val_dict = data_val[categorical_features].to_dict(orient='records')"
   ]
  },
  {
   "cell_type": "code",
   "execution_count": 11,
   "metadata": {},
   "outputs": [],
   "source": [
    "# initialize DictVectorizer\n",
    "dv = DictVectorizer()\n",
    "\n",
    "# fit and transform the training data\n",
    "X_train = dv.fit_transform(train_dict)\n",
    "X_val = dv.transform(val_dict)\n",
    "\n",
    "# set target variable\n",
    "y_train = data_train['duration']\n",
    "y_val = data_val['duration']"
   ]
  },
  {
   "cell_type": "code",
   "execution_count": 12,
   "metadata": {},
   "outputs": [
    {
     "name": "stdout",
     "output_type": "stream",
     "text": [
      "Q4: The number of columns in the matrix is:  515\n"
     ]
    }
   ],
   "source": [
    "# find the number of columns in the matrix\n",
    "print('Q4: The number of columns in the matrix is: ', X_train.shape[1])"
   ]
  },
  {
   "cell_type": "code",
   "execution_count": 13,
   "metadata": {},
   "outputs": [],
   "source": [
    "# train the model\n",
    "model = LinearRegression()\n",
    "model.fit(X_train, y_train)\n",
    "\n",
    "# predict the duration\n",
    "y_pred_train = model.predict(X_train)\n",
    "y_pred_val = model.predict(X_val)"
   ]
  },
  {
   "cell_type": "code",
   "execution_count": 14,
   "metadata": {},
   "outputs": [
    {
     "name": "stdout",
     "output_type": "stream",
     "text": [
      "Q5: RMSE (Train):  7.6492624397080675\n",
      "Q6: RMSE (Validation):  7.81181211389241\n"
     ]
    }
   ],
   "source": [
    "# calculate the RMSE\n",
    "print('Q5: RMSE (Train): ', root_mean_squared_error(y_train, y_pred_train))\n",
    "print('Q6: RMSE (Validation): ', root_mean_squared_error(y_val, y_pred_val))"
   ]
  }
 ],
 "metadata": {
  "kernelspec": {
   "display_name": "Python 3",
   "language": "python",
   "name": "python3"
  },
  "language_info": {
   "codemirror_mode": {
    "name": "ipython",
    "version": 3
   },
   "file_extension": ".py",
   "mimetype": "text/x-python",
   "name": "python",
   "nbconvert_exporter": "python",
   "pygments_lexer": "ipython3",
   "version": "3.10.13"
  }
 },
 "nbformat": 4,
 "nbformat_minor": 2
}

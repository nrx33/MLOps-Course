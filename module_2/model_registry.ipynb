{
 "cells": [
  {
   "cell_type": "code",
   "execution_count": 1,
   "metadata": {},
   "outputs": [],
   "source": [
    "# import libraries\n",
    "from mlflow.tracking import MlflowClient\n",
    "from mlflow.entities import ViewType\n",
    "import mlflow\n",
    "import pandas as pd\n",
    "import warnings\n",
    "warnings.simplefilter(action='ignore', category=FutureWarning)\n",
    "import pickle\n",
    "import mlflow.pyfunc\n",
    "from sklearn.metrics import mean_squared_error\n",
    "import numpy as np\n",
    "\n",
    "# set the tracking uri\n",
    "MLFLOW_TRACKING_URI = \"http://localhost:5000\"\n",
    "\n",
    "# create a client\n",
    "client = MlflowClient(tracking_uri=MLFLOW_TRACKING_URI)"
   ]
  },
  {
   "cell_type": "code",
   "execution_count": 2,
   "metadata": {},
   "outputs": [
    {
     "data": {
      "text/plain": [
       "[<Experiment: artifact_location='file:///workspaces/mlops-course/module_2/mlruns/216665436346368280', creation_time=1716473206979, experiment_id='216665436346368280', last_update_time=1716473206979, lifecycle_stage='active', name='nyc-taxi-experiment', tags={}>,\n",
       " <Experiment: artifact_location='mlflow-artifacts:/0', creation_time=1716469978584, experiment_id='0', last_update_time=1716469978584, lifecycle_stage='active', name='Default', tags={}>]"
      ]
     },
     "execution_count": 2,
     "metadata": {},
     "output_type": "execute_result"
    }
   ],
   "source": [
    "# search experiments\n",
    "client.search_experiments()"
   ]
  },
  {
   "cell_type": "code",
   "execution_count": 3,
   "metadata": {},
   "outputs": [],
   "source": [
    "# create an experiment\n",
    "#client.create_experiment(name=\"test_experiment\")"
   ]
  },
  {
   "cell_type": "code",
   "execution_count": 4,
   "metadata": {},
   "outputs": [],
   "source": [
    "# search runs\n",
    "runs = client.search_runs(\n",
    "    experiment_ids=\"216665436346368280\",\n",
    "    filter_string=\"metrics.rmse < 5.12\",\n",
    "    run_view_type=ViewType.ACTIVE_ONLY,\n",
    "    max_results=5,\n",
    "    order_by=[\"metrics.rmse ASC\"]\n",
    ")"
   ]
  },
  {
   "cell_type": "code",
   "execution_count": 5,
   "metadata": {},
   "outputs": [
    {
     "name": "stdout",
     "output_type": "stream",
     "text": [
      "run id: 011c0a04bf1045d791de5d3eac046d56, rmse: 5.1149\n",
      "run id: 972a717b23ac4e788bcdda758b0754cd, rmse: 5.1149\n",
      "run id: 2afd063875b9466ab701042327eeaec2, rmse: 5.1149\n",
      "run id: c5c30653bc7e4fc49c69c3538c87683b, rmse: 5.1149\n",
      "run id: 9586f52f48f74f99a90f5b985f1fc0fd, rmse: 5.1149\n"
     ]
    }
   ],
   "source": [
    "# shows the runs\n",
    "for run in runs:\n",
    "    print(f\"run id: {run.info.run_id}, rmse: {run.data.metrics['rmse']:.4f}\")"
   ]
  },
  {
   "cell_type": "code",
   "execution_count": 6,
   "metadata": {},
   "outputs": [],
   "source": [
    "# set the tracking uri\n",
    "mlflow.set_tracking_uri(MLFLOW_TRACKING_URI)"
   ]
  },
  {
   "cell_type": "code",
   "execution_count": 7,
   "metadata": {},
   "outputs": [
    {
     "name": "stderr",
     "output_type": "stream",
     "text": [
      "Registered model 'nyc-taxi-model' already exists. Creating a new version of this model...\n",
      "2024/05/25 01:29:41 INFO mlflow.store.model_registry.abstract_store: Waiting up to 300 seconds for model version to finish creation. Model name: nyc-taxi-model, version 19\n",
      "Created version '19' of model 'nyc-taxi-model'.\n"
     ]
    },
    {
     "data": {
      "text/plain": [
       "<ModelVersion: aliases=[], creation_timestamp=1716600581479, current_stage='None', description='', last_updated_timestamp=1716600581479, name='nyc-taxi-model', run_id='011c0a04bf1045d791de5d3eac046d56', run_link='', source='file:///workspaces/mlops-course/module_2/mlruns/216665436346368280/011c0a04bf1045d791de5d3eac046d56/artifacts/model', status='READY', status_message='', tags={}, user_id='', version='19'>"
      ]
     },
     "execution_count": 7,
     "metadata": {},
     "output_type": "execute_result"
    }
   ],
   "source": [
    "# register the model\n",
    "run_id = \"011c0a04bf1045d791de5d3eac046d56\"\n",
    "model_uri = f\"runs:/{run_id}/model\"\n",
    "mlflow.register_model(model_uri=model_uri, name=\"nyc-taxi-model\")"
   ]
  },
  {
   "cell_type": "code",
   "execution_count": 8,
   "metadata": {},
   "outputs": [
    {
     "data": {
      "text/plain": [
       "'runs:/011c0a04bf1045d791de5d3eac046d56/model'"
      ]
     },
     "execution_count": 8,
     "metadata": {},
     "output_type": "execute_result"
    }
   ],
   "source": [
    "model_uri"
   ]
  },
  {
   "cell_type": "code",
   "execution_count": 9,
   "metadata": {},
   "outputs": [
    {
     "data": {
      "text/plain": [
       "[<ModelVersion: aliases=[], creation_timestamp=1716600581479, current_stage='None', description='', last_updated_timestamp=1716600581479, name='nyc-taxi-model', run_id='011c0a04bf1045d791de5d3eac046d56', run_link='', source='file:///workspaces/mlops-course/module_2/mlruns/216665436346368280/011c0a04bf1045d791de5d3eac046d56/artifacts/model', status='READY', status_message='', tags={}, user_id='', version='19'>,\n",
       " <ModelVersion: aliases=['pre-production'], creation_timestamp=1716586737342, current_stage='Staging', description='This model was transitioned to pre production on 2024-05-25', last_updated_timestamp=1716598379175, name='nyc-taxi-model', run_id='c5c30653bc7e4fc49c69c3538c87683b', run_link='', source='file:///workspaces/mlops-course/module_2/mlruns/216665436346368280/c5c30653bc7e4fc49c69c3538c87683b/artifacts/model', status='READY', status_message='', tags={}, user_id='', version='4'>,\n",
       " <ModelVersion: aliases=[], creation_timestamp=1716598378889, current_stage='None', description='', last_updated_timestamp=1716598378889, name='nyc-taxi-model', run_id='011c0a04bf1045d791de5d3eac046d56', run_link='', source='file:///workspaces/mlops-course/module_2/mlruns/216665436346368280/011c0a04bf1045d791de5d3eac046d56/artifacts/model', status='READY', status_message='', tags={}, user_id='', version='18'>,\n",
       " <ModelVersion: aliases=[], creation_timestamp=1716598236026, current_stage='None', description='', last_updated_timestamp=1716598236026, name='nyc-taxi-model', run_id='011c0a04bf1045d791de5d3eac046d56', run_link='', source='file:///workspaces/mlops-course/module_2/mlruns/216665436346368280/011c0a04bf1045d791de5d3eac046d56/artifacts/model', status='READY', status_message='', tags={}, user_id='', version='17'>,\n",
       " <ModelVersion: aliases=[], creation_timestamp=1716597985511, current_stage='None', description='', last_updated_timestamp=1716597985511, name='nyc-taxi-model', run_id='011c0a04bf1045d791de5d3eac046d56', run_link='', source='file:///workspaces/mlops-course/module_2/mlruns/216665436346368280/011c0a04bf1045d791de5d3eac046d56/artifacts/model', status='READY', status_message='', tags={}, user_id='', version='16'>,\n",
       " <ModelVersion: aliases=[], creation_timestamp=1716597648559, current_stage='None', description='', last_updated_timestamp=1716597648559, name='nyc-taxi-model', run_id='011c0a04bf1045d791de5d3eac046d56', run_link='', source='file:///workspaces/mlops-course/module_2/mlruns/216665436346368280/011c0a04bf1045d791de5d3eac046d56/artifacts/model', status='READY', status_message='', tags={}, user_id='', version='15'>,\n",
       " <ModelVersion: aliases=[], creation_timestamp=1716595972182, current_stage='None', description='', last_updated_timestamp=1716595972182, name='nyc-taxi-model', run_id='011c0a04bf1045d791de5d3eac046d56', run_link='', source='file:///workspaces/mlops-course/module_2/mlruns/216665436346368280/011c0a04bf1045d791de5d3eac046d56/artifacts/model', status='READY', status_message='', tags={}, user_id='', version='14'>,\n",
       " <ModelVersion: aliases=[], creation_timestamp=1716594837336, current_stage='None', description='', last_updated_timestamp=1716594837336, name='nyc-taxi-model', run_id='011c0a04bf1045d791de5d3eac046d56', run_link='', source='file:///workspaces/mlops-course/module_2/mlruns/216665436346368280/011c0a04bf1045d791de5d3eac046d56/artifacts/model', status='READY', status_message='', tags={}, user_id='', version='13'>,\n",
       " <ModelVersion: aliases=[], creation_timestamp=1716594243696, current_stage='None', description='', last_updated_timestamp=1716594243696, name='nyc-taxi-model', run_id='011c0a04bf1045d791de5d3eac046d56', run_link='', source='file:///workspaces/mlops-course/module_2/mlruns/216665436346368280/011c0a04bf1045d791de5d3eac046d56/artifacts/model', status='READY', status_message='', tags={}, user_id='', version='12'>,\n",
       " <ModelVersion: aliases=['testing'], creation_timestamp=1716593797338, current_stage='None', description='', last_updated_timestamp=1716593797338, name='nyc-taxi-model', run_id='011c0a04bf1045d791de5d3eac046d56', run_link='', source='file:///workspaces/mlops-course/module_2/mlruns/216665436346368280/011c0a04bf1045d791de5d3eac046d56/artifacts/model', status='READY', status_message='', tags={}, user_id='', version='11'>,\n",
       " <ModelVersion: aliases=[], creation_timestamp=1716592526583, current_stage='None', description='', last_updated_timestamp=1716592526583, name='nyc-taxi-model', run_id='011c0a04bf1045d791de5d3eac046d56', run_link='', source='file:///workspaces/mlops-course/module_2/mlruns/216665436346368280/011c0a04bf1045d791de5d3eac046d56/artifacts/model', status='READY', status_message='', tags={}, user_id='', version='10'>,\n",
       " <ModelVersion: aliases=[], creation_timestamp=1716592369310, current_stage='None', description='', last_updated_timestamp=1716592369310, name='nyc-taxi-model', run_id='011c0a04bf1045d791de5d3eac046d56', run_link='', source='file:///workspaces/mlops-course/module_2/mlruns/216665436346368280/011c0a04bf1045d791de5d3eac046d56/artifacts/model', status='READY', status_message='', tags={}, user_id='', version='9'>,\n",
       " <ModelVersion: aliases=[], creation_timestamp=1716592238159, current_stage='None', description='', last_updated_timestamp=1716592238159, name='nyc-taxi-model', run_id='011c0a04bf1045d791de5d3eac046d56', run_link='', source='file:///workspaces/mlops-course/module_2/mlruns/216665436346368280/011c0a04bf1045d791de5d3eac046d56/artifacts/model', status='READY', status_message='', tags={}, user_id='', version='8'>,\n",
       " <ModelVersion: aliases=[], creation_timestamp=1716591074903, current_stage='None', description='', last_updated_timestamp=1716591074903, name='nyc-taxi-model', run_id='011c0a04bf1045d791de5d3eac046d56', run_link='', source='file:///workspaces/mlops-course/module_2/mlruns/216665436346368280/011c0a04bf1045d791de5d3eac046d56/artifacts/model', status='READY', status_message='', tags={}, user_id='', version='7'>,\n",
       " <ModelVersion: aliases=['production'], creation_timestamp=1716587380893, current_stage='None', description='', last_updated_timestamp=1716587380893, name='nyc-taxi-model', run_id='c5c30653bc7e4fc49c69c3538c87683b', run_link='', source='file:///workspaces/mlops-course/module_2/mlruns/216665436346368280/c5c30653bc7e4fc49c69c3538c87683b/artifacts/model', status='READY', status_message='', tags={'model': 'xgboost'}, user_id='', version='6'>,\n",
       " <ModelVersion: aliases=[], creation_timestamp=1716587004990, current_stage='None', description='', last_updated_timestamp=1716587004990, name='nyc-taxi-model', run_id='c5c30653bc7e4fc49c69c3538c87683b', run_link='', source='file:///workspaces/mlops-course/module_2/mlruns/216665436346368280/c5c30653bc7e4fc49c69c3538c87683b/artifacts/model', status='READY', status_message='', tags={}, user_id='', version='5'>,\n",
       " <ModelVersion: aliases=[], creation_timestamp=1716580970455, current_stage='None', description='', last_updated_timestamp=1716580970455, name='nyc-taxi-model', run_id='c5c30653bc7e4fc49c69c3538c87683b', run_link='', source='file:///workspaces/mlops-course/module_2/mlruns/216665436346368280/c5c30653bc7e4fc49c69c3538c87683b/artifacts/model', status='READY', status_message='', tags={}, user_id='', version='3'>,\n",
       " <ModelVersion: aliases=['initial'], creation_timestamp=1716580944913, current_stage='None', description='', last_updated_timestamp=1716580944913, name='nyc-taxi-model', run_id='c5c30653bc7e4fc49c69c3538c87683b', run_link='', source='file:///workspaces/mlops-course/module_2/mlruns/216665436346368280/c5c30653bc7e4fc49c69c3538c87683b/artifacts/model', status='READY', status_message='', tags={}, user_id='', version='2'>,\n",
       " <ModelVersion: aliases=['past'], creation_timestamp=1716562261786, current_stage='None', description='', last_updated_timestamp=1716562261786, name='nyc-taxi-model', run_id='011c0a04bf1045d791de5d3eac046d56', run_link='', source='file:///workspaces/mlops-course/module_2/mlruns/216665436346368280/011c0a04bf1045d791de5d3eac046d56/artifacts/models_mlflow', status='READY', status_message='', tags={}, user_id='', version='1'>]"
      ]
     },
     "execution_count": 9,
     "metadata": {},
     "output_type": "execute_result"
    }
   ],
   "source": [
    "client.search_model_versions(\"name = 'nyc-taxi-model'\")"
   ]
  },
  {
   "cell_type": "code",
   "execution_count": 10,
   "metadata": {},
   "outputs": [
    {
     "name": "stdout",
     "output_type": "stream",
     "text": [
      "run id: 011c0a04bf1045d791de5d3eac046d56, version: 19, aliases: [], tags: {}\n",
      "run id: c5c30653bc7e4fc49c69c3538c87683b, version: 4, aliases: ['pre-production'], tags: {}\n",
      "run id: 011c0a04bf1045d791de5d3eac046d56, version: 18, aliases: [], tags: {}\n",
      "run id: 011c0a04bf1045d791de5d3eac046d56, version: 17, aliases: [], tags: {}\n",
      "run id: 011c0a04bf1045d791de5d3eac046d56, version: 16, aliases: [], tags: {}\n",
      "run id: 011c0a04bf1045d791de5d3eac046d56, version: 15, aliases: [], tags: {}\n",
      "run id: 011c0a04bf1045d791de5d3eac046d56, version: 14, aliases: [], tags: {}\n",
      "run id: 011c0a04bf1045d791de5d3eac046d56, version: 13, aliases: [], tags: {}\n",
      "run id: 011c0a04bf1045d791de5d3eac046d56, version: 12, aliases: [], tags: {}\n",
      "run id: 011c0a04bf1045d791de5d3eac046d56, version: 11, aliases: ['testing'], tags: {}\n",
      "run id: 011c0a04bf1045d791de5d3eac046d56, version: 10, aliases: [], tags: {}\n",
      "run id: 011c0a04bf1045d791de5d3eac046d56, version: 9, aliases: [], tags: {}\n",
      "run id: 011c0a04bf1045d791de5d3eac046d56, version: 8, aliases: [], tags: {}\n",
      "run id: 011c0a04bf1045d791de5d3eac046d56, version: 7, aliases: [], tags: {}\n",
      "run id: c5c30653bc7e4fc49c69c3538c87683b, version: 6, aliases: ['production'], tags: {'model': 'xgboost'}\n",
      "run id: c5c30653bc7e4fc49c69c3538c87683b, version: 5, aliases: [], tags: {}\n",
      "run id: c5c30653bc7e4fc49c69c3538c87683b, version: 3, aliases: [], tags: {}\n",
      "run id: c5c30653bc7e4fc49c69c3538c87683b, version: 2, aliases: ['initial'], tags: {}\n",
      "run id: 011c0a04bf1045d791de5d3eac046d56, version: 1, aliases: ['past'], tags: {}\n"
     ]
    }
   ],
   "source": [
    "# get latest version\n",
    "# sorted(client.search_model_versions(f\"name='nyc-taxi-model'\"), key=lambda mv: int(mv.version), reverse=True)[0]\n",
    "\n",
    "# latest_versions = client.get_latest_versions(name = 'nyc-taxi-model')\n",
    "\n",
    "latest_versions = client.search_model_versions(\"name='nyc-taxi-model'\")\n",
    "\n",
    "for latest in latest_versions:\n",
    "    print(f\"run id: {latest.run_id}, version: {latest.version}, aliases: {latest.aliases}, tags: {latest.tags}\")"
   ]
  },
  {
   "cell_type": "code",
   "execution_count": 11,
   "metadata": {},
   "outputs": [],
   "source": [
    "# set the registered model alias\n",
    "client.set_registered_model_alias(name=\"nyc-taxi-model\", version=\"4\", alias=\"pre-production\")"
   ]
  },
  {
   "cell_type": "code",
   "execution_count": 12,
   "metadata": {},
   "outputs": [
    {
     "data": {
      "text/plain": [
       "<ModelVersion: aliases=['pre-production'], creation_timestamp=1716586737342, current_stage='Staging', description='This model was transitioned to pre production on 2024-05-25', last_updated_timestamp=1716600581746, name='nyc-taxi-model', run_id='c5c30653bc7e4fc49c69c3538c87683b', run_link='', source='file:///workspaces/mlops-course/module_2/mlruns/216665436346368280/c5c30653bc7e4fc49c69c3538c87683b/artifacts/model', status='READY', status_message='', tags={}, user_id='', version='4'>"
      ]
     },
     "execution_count": 12,
     "metadata": {},
     "output_type": "execute_result"
    }
   ],
   "source": [
    "from datetime import datetime\n",
    "\n",
    "# update the model version description\n",
    "client.update_model_version(name='nyc-taxi-model', version='4', description=f'This model was transitioned to pre production on {datetime.today().date()}')"
   ]
  },
  {
   "cell_type": "code",
   "execution_count": 13,
   "metadata": {},
   "outputs": [],
   "source": [
    "def read_dataframe(filename):\n",
    "    df = pd.read_parquet(filename)\n",
    "\n",
    "    df.tpep_dropoff_datetime = pd.to_datetime(df.tpep_dropoff_datetime)\n",
    "    df.tpep_pickup_datetime = pd.to_datetime(df.tpep_pickup_datetime)\n",
    "\n",
    "    df['duration'] = df.tpep_dropoff_datetime - df.tpep_pickup_datetime\n",
    "    df.duration = df.duration.apply(lambda td: td.total_seconds() / 60)\n",
    "\n",
    "    df = df[(df.duration >= 1) & (df.duration <= 60)]\n",
    "\n",
    "    categorical = ['PULocationID', 'DOLocationID']\n",
    "    df[categorical] = df[categorical].astype(str)\n",
    "\n",
    "    return df\n",
    "\n",
    "def preprocess(df, dv):\n",
    "    df['PU_DO'] = df['PULocationID'] + '_' + df['DOLocationID']\n",
    "    categorical = ['PU_DO']\n",
    "    numerical = ['trip_distance']\n",
    "    train_dicts = df[categorical + numerical].to_dict(orient='records')\n",
    "    return dv.transform(train_dicts)\n",
    "\n",
    "def test_model(run_id, artifact_path, X_test, y_test):\n",
    "    logged_model = f'runs:/{run_id}/{artifact_path}'\n",
    "    loaded_model = mlflow.pyfunc.load_model(logged_model)\n",
    "    y_pred = loaded_model.predict(X_test)\n",
    "    rmse = np.sqrt(mean_squared_error(y_test, y_pred))\n",
    "    return {\"rmse\": rmse}"
   ]
  },
  {
   "cell_type": "code",
   "execution_count": 14,
   "metadata": {},
   "outputs": [],
   "source": [
    "df = read_dataframe(\"./data/yellow_tripdata_2023-02.parquet\")"
   ]
  },
  {
   "cell_type": "code",
   "execution_count": 15,
   "metadata": {},
   "outputs": [
    {
     "name": "stderr",
     "output_type": "stream",
     "text": [
      "/home/codespace/.python/current/lib/python3.10/site-packages/tqdm/auto.py:21: TqdmWarning: IProgress not found. Please update jupyter and ipywidgets. See https://ipywidgets.readthedocs.io/en/stable/user_install.html\n",
      "  from .autonotebook import tqdm as notebook_tqdm\n",
      "Downloading artifacts: 100%|██████████| 1/1 [00:00<00:00, 1046.74it/s] \n"
     ]
    },
    {
     "data": {
      "text/plain": [
       "'/workspaces/mlops-course/module_2/preprocessor'"
      ]
     },
     "execution_count": 15,
     "metadata": {},
     "output_type": "execute_result"
    }
   ],
   "source": [
    "client.download_artifacts(run_id, path='preprocessor', dst_path='.')"
   ]
  },
  {
   "cell_type": "code",
   "execution_count": 16,
   "metadata": {},
   "outputs": [],
   "source": [
    "with open('preprocessor/preprocessor.b', 'rb') as f_in:\n",
    "    dv = pickle.load(f_in)"
   ]
  },
  {
   "cell_type": "code",
   "execution_count": 17,
   "metadata": {},
   "outputs": [],
   "source": [
    "X_test = preprocess(df, dv)\n",
    "y_test = df['duration'].values"
   ]
  },
  {
   "cell_type": "code",
   "execution_count": 18,
   "metadata": {},
   "outputs": [
    {
     "name": "stderr",
     "output_type": "stream",
     "text": [
      "/home/codespace/.python/current/lib/python3.10/site-packages/xgboost/core.py:160: UserWarning: [01:29:58] WARNING: /workspace/src/objective/regression_obj.cu:209: reg:linear is now deprecated in favor of reg:squarederror.\n",
      "  warnings.warn(smsg, UserWarning)\n"
     ]
    },
    {
     "name": "stdout",
     "output_type": "stream",
     "text": [
      "{'rmse': 5.4065983014906696}\n",
      "CPU times: user 6min 41s, sys: 305 ms, total: 6min 41s\n",
      "Wall time: 3min 40s\n"
     ]
    }
   ],
   "source": [
    "%time print(test_model(run_id=\"c5c30653bc7e4fc49c69c3538c87683b\", artifact_path=\"models_artifact\", X_test=X_test, y_test=y_test))"
   ]
  },
  {
   "cell_type": "code",
   "execution_count": null,
   "metadata": {},
   "outputs": [],
   "source": []
  }
 ],
 "metadata": {
  "kernelspec": {
   "display_name": "Python 3",
   "language": "python",
   "name": "python3"
  },
  "language_info": {
   "codemirror_mode": {
    "name": "ipython",
    "version": 3
   },
   "file_extension": ".py",
   "mimetype": "text/x-python",
   "name": "python",
   "nbconvert_exporter": "python",
   "pygments_lexer": "ipython3",
   "version": "3.10.13"
  }
 },
 "nbformat": 4,
 "nbformat_minor": 2
}
